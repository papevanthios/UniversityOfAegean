{
 "cells": [
  {
   "cell_type": "code",
   "execution_count": 2,
   "id": "30c8bcee",
   "metadata": {},
   "outputs": [
    {
     "name": "stdout",
     "output_type": "stream",
     "text": [
      "Δωστε τον βαθμο του μαθητη\n",
      "65\n",
      "Passing score\n"
     ]
    }
   ],
   "source": [
    "print(\"Δωστε τον βαθμο του μαθητη\")\n",
    "grade = int(input())\n",
    "if grade >= 60:\n",
    "    print(\"Passing score\")\n",
    "else:\n",
    "    print(\"Failing score\")"
   ]
  },
  {
   "cell_type": "code",
   "execution_count": 6,
   "id": "e613f698",
   "metadata": {},
   "outputs": [
    {
     "name": "stdout",
     "output_type": "stream",
     "text": [
      "Δωστε τον βαθμο του μαθητη\n",
      "85\n",
      "Grade A\n"
     ]
    }
   ],
   "source": [
    "print(\"Δωστε τον βαθμο του μαθητη\")\n",
    "grade = int(input())\n",
    "if grade <= 100 and grade >= 85:\n",
    "    print(\"Grade A\")\n",
    "else:\n",
    "    print(\"Grade B\")"
   ]
  },
  {
   "cell_type": "code",
   "execution_count": 10,
   "id": "45e6d356",
   "metadata": {},
   "outputs": [
    {
     "name": "stdout",
     "output_type": "stream",
     "text": [
      "Δωστε τον βαθμο του μαθητη\n",
      "0\n",
      "Good\n"
     ]
    }
   ],
   "source": [
    "print(\"Δωστε τον βαθμο του μαθητη\")\n",
    "grade = int(input())\n",
    "if grade <= 100 and grade >= 85:\n",
    "    print(\"Excellent\")\n",
    "elif grade < 85 and grade >= 65:\n",
    "    print(\"Very Good\")\n",
    "else:\n",
    "    print(\"Good\")"
   ]
  },
  {
   "cell_type": "code",
   "execution_count": 13,
   "id": "1cd4eb7e",
   "metadata": {},
   "outputs": [
    {
     "name": "stdout",
     "output_type": "stream",
     "text": [
      "Δωστε τον βαθμο του μαθητη\n",
      "50\n",
      "Passing\n"
     ]
    }
   ],
   "source": [
    "print(\"Δωστε τον βαθμο του μαθητη\")\n",
    "grade = int(input())\n",
    "if grade <= 100 and grade >= 85:\n",
    "    print(\"Excellent\")\n",
    "elif grade < 85 and grade >= 64:\n",
    "    print(\"Very Good\")\n",
    "elif grade < 64 and grade >= 51:\n",
    "    print(\"Good\")\n",
    "elif grade == 50:\n",
    "    print(\"Passing\")\n",
    "else:\n",
    "    print(\"Fail\")"
   ]
  },
  {
   "cell_type": "code",
   "execution_count": 14,
   "id": "9f6f3c8c",
   "metadata": {},
   "outputs": [],
   "source": [
    "import numpy as np"
   ]
  },
  {
   "cell_type": "code",
   "execution_count": 15,
   "id": "0bbaf5d0",
   "metadata": {},
   "outputs": [
    {
     "data": {
      "text/plain": [
       "[1, 2, 3, 4, 5]"
      ]
     },
     "execution_count": 15,
     "metadata": {},
     "output_type": "execute_result"
    }
   ],
   "source": [
    "int_list = [1,2,3,4,5]\n",
    "int_list"
   ]
  },
  {
   "cell_type": "code",
   "execution_count": 16,
   "id": "170be907",
   "metadata": {},
   "outputs": [
    {
     "data": {
      "text/plain": [
       "array([1, 2, 3, 4, 5])"
      ]
     },
     "execution_count": 16,
     "metadata": {},
     "output_type": "execute_result"
    }
   ],
   "source": [
    "int_list2 = np.array(int_list)\n",
    "int_list2"
   ]
  },
  {
   "cell_type": "code",
   "execution_count": 17,
   "id": "31b86c2a",
   "metadata": {},
   "outputs": [
    {
     "data": {
      "text/plain": [
       "numpy.ndarray"
      ]
     },
     "execution_count": 17,
     "metadata": {},
     "output_type": "execute_result"
    }
   ],
   "source": [
    "type(int_list2)"
   ]
  },
  {
   "cell_type": "code",
   "execution_count": 18,
   "id": "4ac6cac8",
   "metadata": {},
   "outputs": [
    {
     "data": {
      "text/plain": [
       "dtype('int32')"
      ]
     },
     "execution_count": 18,
     "metadata": {},
     "output_type": "execute_result"
    }
   ],
   "source": [
    "int_list2.dtype"
   ]
  },
  {
   "cell_type": "code",
   "execution_count": 19,
   "id": "0fa29099",
   "metadata": {},
   "outputs": [
    {
     "data": {
      "text/plain": [
       "1"
      ]
     },
     "execution_count": 19,
     "metadata": {},
     "output_type": "execute_result"
    }
   ],
   "source": [
    "int_list2.ndim"
   ]
  },
  {
   "cell_type": "code",
   "execution_count": 21,
   "id": "62268513",
   "metadata": {},
   "outputs": [
    {
     "data": {
      "text/plain": [
       "(5,)"
      ]
     },
     "execution_count": 21,
     "metadata": {},
     "output_type": "execute_result"
    }
   ],
   "source": [
    "int_list2.shape"
   ]
  },
  {
   "cell_type": "code",
   "execution_count": null,
   "id": "7b89c6ef",
   "metadata": {},
   "outputs": [],
   "source": []
  },
  {
   "cell_type": "code",
   "execution_count": 26,
   "id": "21ed49c2",
   "metadata": {},
   "outputs": [
    {
     "name": "stdout",
     "output_type": "stream",
     "text": [
      "O Πινακας: \n",
      " [[1 2 3]\n",
      " [4 5 6]]\n",
      "Διαστασεις: 2\n",
      "Σχημα (γραμμεσ, στηλες) (2, 3)\n"
     ]
    }
   ],
   "source": [
    "a =[1,2,3]\n",
    "b =[4,5,6]\n",
    "list1 = [a,b]\n",
    "matrix1 = np.array(list1)\n",
    "dim = matrix1.ndim\n",
    "sha = matrix1.shape\n",
    "\n",
    "print('O Πινακας: \\n', matrix1)\n",
    "print('Διαστασεις:', dim)\n",
    "print('Σχημα (γραμμεσ, στηλες)', sha)"
   ]
  },
  {
   "cell_type": "code",
   "execution_count": 27,
   "id": "307c0653",
   "metadata": {},
   "outputs": [
    {
     "name": "stdout",
     "output_type": "stream",
     "text": [
      "O Πινακας: \n",
      " [[1 4]\n",
      " [2 5]\n",
      " [3 6]]\n",
      "Διαστασεις: 2\n",
      "Σχημα (γραμμεσ, στηλες) (3, 2)\n"
     ]
    }
   ],
   "source": [
    "matrix2 = matrix1.transpose()\n",
    "dim = matrix2.ndim\n",
    "sha = matrix2.shape\n",
    "\n",
    "print('O Πινακας: \\n', matrix2)\n",
    "print('Διαστασεις:', dim)\n",
    "print('Σχημα (γραμμεσ, στηλες)', sha)"
   ]
  },
  {
   "cell_type": "code",
   "execution_count": 29,
   "id": "aca4c2e1",
   "metadata": {},
   "outputs": [
    {
     "data": {
      "text/plain": [
       "array([1, 2, 3, 4, 5, 6, 7, 8])"
      ]
     },
     "execution_count": 29,
     "metadata": {},
     "output_type": "execute_result"
    }
   ],
   "source": [
    "matrix3 = np.arange(1,9,1, int)\n",
    "matrix3"
   ]
  },
  {
   "cell_type": "code",
   "execution_count": 37,
   "id": "879fe3f5",
   "metadata": {},
   "outputs": [
    {
     "data": {
      "text/plain": [
       "array([1., 2., 3., 4., 5., 6.])"
      ]
     },
     "execution_count": 37,
     "metadata": {},
     "output_type": "execute_result"
    }
   ],
   "source": [
    "matrix4 = np.linspace(1,6,6)\n",
    "matrix4"
   ]
  },
  {
   "cell_type": "code",
   "execution_count": 40,
   "id": "db509015",
   "metadata": {},
   "outputs": [
    {
     "data": {
      "text/plain": [
       "array([[0., 0., 0.],\n",
       "       [0., 0., 0.]])"
      ]
     },
     "execution_count": 40,
     "metadata": {},
     "output_type": "execute_result"
    }
   ],
   "source": [
    "np.zeros(3)\n",
    "np.zeros((2,3))"
   ]
  },
  {
   "cell_type": "code",
   "execution_count": 42,
   "id": "71a93cbf",
   "metadata": {},
   "outputs": [
    {
     "data": {
      "text/plain": [
       "array([[1., 0., 0.],\n",
       "       [0., 1., 0.],\n",
       "       [0., 0., 1.]])"
      ]
     },
     "execution_count": 42,
     "metadata": {},
     "output_type": "execute_result"
    }
   ],
   "source": [
    "np.eye(3)"
   ]
  },
  {
   "cell_type": "code",
   "execution_count": 45,
   "id": "b567c05c",
   "metadata": {},
   "outputs": [
    {
     "name": "stdout",
     "output_type": "stream",
     "text": [
      "Ριψη :  5  &  5 \n",
      " Διπλες\n"
     ]
    }
   ],
   "source": [
    "def roll_dice():\n",
    "    dice1 = np.random.randint(1,7)\n",
    "    dice2 = np.random.randint(1,7)\n",
    "    \n",
    "    if dice1 == dice2:\n",
    "        print('Ριψη : ', dice1, ' & ', dice2, '\\n Διπλες')\n",
    "    else:\n",
    "        print('Ριψη : ', dice1, ' & ', dice2)\n",
    "        \n",
    "roll_dice()"
   ]
  },
  {
   "cell_type": "code",
   "execution_count": 46,
   "id": "9b9a7cd9",
   "metadata": {},
   "outputs": [],
   "source": [
    "import numpy as np\n",
    "\n",
    "with_rand = np.random.rand(3)\n",
    "\n",
    "with_rand2 = np.random.rand(2,3)\n",
    "\n",
    "\n",
    "\n",
    "with_randn = np.random.randn(3)\n",
    "\n",
    "with_randn2 = np.random.randn(2,3)\n",
    "\n",
    "\n",
    "\n",
    "with_randint = np.random.randint(1,10)\n",
    "\n",
    "with_randint2 = np.random.randint(1,100,6)\n",
    "\n",
    "with_randint3 = np.random.randint(1,100,(2,3))"
   ]
  },
  {
   "cell_type": "code",
   "execution_count": 48,
   "id": "b3ada521",
   "metadata": {},
   "outputs": [
    {
     "data": {
      "text/plain": [
       "array([0.22080636, 0.68893155, 0.86765274])"
      ]
     },
     "execution_count": 48,
     "metadata": {},
     "output_type": "execute_result"
    }
   ],
   "source": [
    "with_rand\n"
   ]
  },
  {
   "cell_type": "code",
   "execution_count": 50,
   "id": "a9825f29",
   "metadata": {},
   "outputs": [
    {
     "data": {
      "text/plain": [
       "array([[0.29358236, 0.59978328, 0.14334946],\n",
       "       [0.47122323, 0.04786821, 0.20810535]])"
      ]
     },
     "execution_count": 50,
     "metadata": {},
     "output_type": "execute_result"
    }
   ],
   "source": [
    "with_rand2"
   ]
  },
  {
   "cell_type": "code",
   "execution_count": 51,
   "id": "bdb8f1c9",
   "metadata": {},
   "outputs": [
    {
     "data": {
      "text/plain": [
       "array([2.78363296, 0.07666702, 0.81234912])"
      ]
     },
     "execution_count": 51,
     "metadata": {},
     "output_type": "execute_result"
    }
   ],
   "source": [
    "with_randn"
   ]
  },
  {
   "cell_type": "code",
   "execution_count": 52,
   "id": "4000ff04",
   "metadata": {},
   "outputs": [
    {
     "data": {
      "text/plain": [
       "array([[ 1.15697248, -1.65186677, -0.38656935],\n",
       "       [-0.05362507, -0.27132485,  0.87478235]])"
      ]
     },
     "execution_count": 52,
     "metadata": {},
     "output_type": "execute_result"
    }
   ],
   "source": [
    "with_randn2"
   ]
  },
  {
   "cell_type": "code",
   "execution_count": 53,
   "id": "4377ae53",
   "metadata": {},
   "outputs": [
    {
     "data": {
      "text/plain": [
       "1"
      ]
     },
     "execution_count": 53,
     "metadata": {},
     "output_type": "execute_result"
    }
   ],
   "source": [
    "with_randint"
   ]
  },
  {
   "cell_type": "code",
   "execution_count": 54,
   "id": "ed1f22ec",
   "metadata": {},
   "outputs": [
    {
     "data": {
      "text/plain": [
       "array([32, 90, 93, 12, 65, 11])"
      ]
     },
     "execution_count": 54,
     "metadata": {},
     "output_type": "execute_result"
    }
   ],
   "source": [
    "with_randint2"
   ]
  },
  {
   "cell_type": "code",
   "execution_count": 55,
   "id": "d4e1bfcd",
   "metadata": {},
   "outputs": [
    {
     "data": {
      "text/plain": [
       "array([[ 4, 73, 23],\n",
       "       [90, 53, 56]])"
      ]
     },
     "execution_count": 55,
     "metadata": {},
     "output_type": "execute_result"
    }
   ],
   "source": [
    "with_randint3"
   ]
  },
  {
   "cell_type": "code",
   "execution_count": null,
   "id": "9587fc64",
   "metadata": {},
   "outputs": [],
   "source": []
  }
 ],
 "metadata": {
  "kernelspec": {
   "display_name": "Python 3 (ipykernel)",
   "language": "python",
   "name": "python3"
  },
  "language_info": {
   "codemirror_mode": {
    "name": "ipython",
    "version": 3
   },
   "file_extension": ".py",
   "mimetype": "text/x-python",
   "name": "python",
   "nbconvert_exporter": "python",
   "pygments_lexer": "ipython3",
   "version": "3.9.7"
  }
 },
 "nbformat": 4,
 "nbformat_minor": 5
}
