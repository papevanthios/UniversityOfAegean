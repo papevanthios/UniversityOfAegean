{
 "cells": [
  {
   "cell_type": "code",
   "execution_count": 3,
   "id": "a2187559",
   "metadata": {},
   "outputs": [
    {
     "name": "stdout",
     "output_type": "stream",
     "text": [
      "1\n",
      "2\n",
      "3\n",
      "4\n",
      "5\n",
      "6\n",
      "7\n",
      "8\n",
      "9\n",
      "10\n"
     ]
    }
   ],
   "source": [
    "met = 0\n",
    "while met < 10:\n",
    "    met = met + 1\n",
    "    print(met)"
   ]
  },
  {
   "cell_type": "code",
   "execution_count": 4,
   "id": "f5a5cf52",
   "metadata": {},
   "outputs": [
    {
     "name": "stdout",
     "output_type": "stream",
     "text": [
      "Δωστε εναν θετικο αριθμο (-1 για τέλος):5\n",
      "Δωστε εναν θετικο αριθμο (-1 για τέλος):5\n",
      "Δωστε εναν θετικο αριθμο (-1 για τέλος):5\n",
      "Δωστε εναν θετικο αριθμο (-1 για τέλος):-1\n",
      "Αθροισμα = 15\n"
     ]
    }
   ],
   "source": [
    "sum = 0\n",
    "while True:\n",
    "    n = int(input(\"Δωστε εναν θετικο αριθμο (-1 για τέλος):\"))\n",
    "    if n == -1:\n",
    "        break;\n",
    "    sum = sum + n\n",
    "print(\"Αθροισμα =\", sum)"
   ]
  },
  {
   "cell_type": "code",
   "execution_count": 5,
   "id": "a6e8a85a",
   "metadata": {},
   "outputs": [
    {
     "name": "stdout",
     "output_type": "stream",
     "text": [
      "m\n",
      "h\n",
      "l\n",
      "o\n"
     ]
    }
   ],
   "source": [
    "fruit = \"mhlo\"\n",
    "met = 0\n",
    "while met < len(fruit):\n",
    "    letter = fruit[met]\n",
    "    print(letter)\n",
    "    met = met + 1\n"
   ]
  },
  {
   "cell_type": "code",
   "execution_count": 6,
   "id": "878eaa5d",
   "metadata": {},
   "outputs": [
    {
     "name": "stdout",
     "output_type": "stream",
     "text": [
      "Bod\n",
      "Alice\n"
     ]
    }
   ],
   "source": [
    "for name in \"Bod\", \"Alice\":\n",
    "    print(name)"
   ]
  },
  {
   "cell_type": "code",
   "execution_count": 7,
   "id": "93200ca4",
   "metadata": {},
   "outputs": [
    {
     "name": "stdout",
     "output_type": "stream",
     "text": [
      "0\n",
      "1\n",
      "2\n",
      "3\n",
      "4\n",
      "5\n",
      "6\n",
      "7\n",
      "8\n",
      "9\n"
     ]
    }
   ],
   "source": [
    "for i in range(10):\n",
    "    print(i)"
   ]
  },
  {
   "cell_type": "code",
   "execution_count": 8,
   "id": "1d7641d4",
   "metadata": {},
   "outputs": [
    {
     "name": "stdout",
     "output_type": "stream",
     "text": [
      "5\n",
      "6\n",
      "7\n"
     ]
    }
   ],
   "source": [
    "for i in 5,6,7:\n",
    "    print(i)"
   ]
  },
  {
   "cell_type": "code",
   "execution_count": 9,
   "id": "8241c3df",
   "metadata": {},
   "outputs": [
    {
     "name": "stdout",
     "output_type": "stream",
     "text": [
      "100 101 102 103 104 105 106 107 108 109 110 111 112 113 114 115 116 117 118 119 "
     ]
    }
   ],
   "source": [
    "for i in range(100, 120):\n",
    "    print(i, end=\" \")"
   ]
  },
  {
   "cell_type": "code",
   "execution_count": 10,
   "id": "d1cd61c7",
   "metadata": {},
   "outputs": [
    {
     "name": "stdout",
     "output_type": "stream",
     "text": [
      "0\n",
      "hello\n",
      "1\n",
      "hello\n",
      "2\n",
      "hello\n",
      "3\n",
      "hello\n",
      "4\n",
      "hello\n",
      "5\n",
      "hello\n",
      "6\n",
      "hello\n",
      "7\n",
      "hello\n",
      "8\n",
      "hello\n",
      "9\n",
      "hello\n"
     ]
    }
   ],
   "source": [
    "for i in range(10):\n",
    "    print(i)\n",
    "    print(\"hello\")"
   ]
  },
  {
   "cell_type": "code",
   "execution_count": 13,
   "id": "877d5335",
   "metadata": {},
   "outputs": [],
   "source": [
    "import numpy as np\n",
    "import pandas as pd\n",
    "\n",
    "labels = [\"First\", \"Second\", \"Third\"] #Lista me strings\n",
    "values = [10, 20, 30] #Lista me arithmous\n",
    "array = np.arange(10,31,10) #numpy array\n",
    "dico = {\"First\":10, \"Second\":20, \"Third\":30} #ena leksiko"
   ]
  },
  {
   "cell_type": "code",
   "execution_count": 16,
   "id": "d448c69a",
   "metadata": {},
   "outputs": [
    {
     "data": {
      "text/plain": [
       "0    10\n",
       "1    20\n",
       "2    30\n",
       "dtype: int64"
      ]
     },
     "execution_count": 16,
     "metadata": {},
     "output_type": "execute_result"
    }
   ],
   "source": [
    "#Creating Series\n",
    "A = pd.Series(values) #We add values \n",
    "A #Show series\n"
   ]
  },
  {
   "cell_type": "code",
   "execution_count": 17,
   "id": "6364fe88",
   "metadata": {},
   "outputs": [
    {
     "data": {
      "text/plain": [
       "First     10\n",
       "Second    20\n",
       "Third     30\n",
       "dtype: int64"
      ]
     },
     "execution_count": 17,
     "metadata": {},
     "output_type": "execute_result"
    }
   ],
   "source": [
    "B = pd.Series(values, labels)\n",
    "B\n"
   ]
  },
  {
   "cell_type": "code",
   "execution_count": 18,
   "id": "df0a2f95",
   "metadata": {},
   "outputs": [
    {
     "data": {
      "text/plain": [
       "First     10\n",
       "Second    20\n",
       "Third     30\n",
       "dtype: int32"
      ]
     },
     "execution_count": 18,
     "metadata": {},
     "output_type": "execute_result"
    }
   ],
   "source": [
    "C = pd.Series(array, labels)\n",
    "C"
   ]
  },
  {
   "cell_type": "code",
   "execution_count": 19,
   "id": "bba7a4df",
   "metadata": {},
   "outputs": [
    {
     "data": {
      "text/plain": [
       "First     10\n",
       "Second    20\n",
       "Third     30\n",
       "dtype: int64"
      ]
     },
     "execution_count": 19,
     "metadata": {},
     "output_type": "execute_result"
    }
   ],
   "source": [
    "D = pd.Series(dico)\n",
    "D"
   ]
  },
  {
   "cell_type": "code",
   "execution_count": 20,
   "id": "5ac87ed8",
   "metadata": {},
   "outputs": [
    {
     "data": {
      "text/plain": [
       "10     First\n",
       "20    Second\n",
       "30     Third\n",
       "dtype: object"
      ]
     },
     "execution_count": 20,
     "metadata": {},
     "output_type": "execute_result"
    }
   ],
   "source": [
    "pd.Series(labels, values)"
   ]
  },
  {
   "cell_type": "code",
   "execution_count": 21,
   "id": "1ba57900",
   "metadata": {},
   "outputs": [
    {
     "data": {
      "text/plain": [
       "Smart      1\n",
       "Opel       2\n",
       "Audi       3\n",
       "Porsche    4\n",
       "dtype: int64"
      ]
     },
     "execution_count": 21,
     "metadata": {},
     "output_type": "execute_result"
    }
   ],
   "source": [
    "A = pd.Series([1,2,3,4], ['Smart', 'Opel', 'Audi', 'Porsche'])\n",
    "A"
   ]
  },
  {
   "cell_type": "code",
   "execution_count": 27,
   "id": "54b5259d",
   "metadata": {},
   "outputs": [
    {
     "name": "stdout",
     "output_type": "stream",
     "text": [
      "Εμφανιση του πρωτου στοιχειου\n"
     ]
    },
    {
     "data": {
      "text/plain": [
       "1"
      ]
     },
     "execution_count": 27,
     "metadata": {},
     "output_type": "execute_result"
    }
   ],
   "source": [
    "print(\"Εμφανιση του πρωτου στοιχειου\")\n",
    "A['Smart']"
   ]
  },
  {
   "cell_type": "code",
   "execution_count": 28,
   "id": "3c3e5229",
   "metadata": {},
   "outputs": [
    {
     "data": {
      "text/plain": [
       "1      Smart\n",
       "2       Opel\n",
       "3       Audi\n",
       "4    Porsche\n",
       "dtype: object"
      ]
     },
     "execution_count": 28,
     "metadata": {},
     "output_type": "execute_result"
    }
   ],
   "source": [
    "A1 = pd.Series(['Smart', 'Opel', 'Audi', 'Porsche'], [1,2,3,4])\n",
    "A1"
   ]
  },
  {
   "cell_type": "code",
   "execution_count": 29,
   "id": "82522b65",
   "metadata": {},
   "outputs": [
    {
     "name": "stdout",
     "output_type": "stream",
     "text": [
      "Εμφανιση του πρωτου στοιχειου\n"
     ]
    },
    {
     "data": {
      "text/plain": [
       "'Smart'"
      ]
     },
     "execution_count": 29,
     "metadata": {},
     "output_type": "execute_result"
    }
   ],
   "source": [
    "print(\"Εμφανιση του πρωτου στοιχειου\")\n",
    "A1[1]"
   ]
  },
  {
   "cell_type": "code",
   "execution_count": 31,
   "id": "6275820f",
   "metadata": {},
   "outputs": [
    {
     "data": {
      "text/plain": [
       "Smart      2\n",
       "Opel       4\n",
       "Audi       6\n",
       "Porsche    8\n",
       "dtype: int64"
      ]
     },
     "execution_count": 31,
     "metadata": {},
     "output_type": "execute_result"
    }
   ],
   "source": [
    "double_A = A + A\n",
    "double_A"
   ]
  },
  {
   "cell_type": "code",
   "execution_count": 33,
   "id": "cebe6d2b",
   "metadata": {},
   "outputs": [
    {
     "data": {
      "text/plain": [
       "Audi       6.0\n",
       "Fiat       NaN\n",
       "Opel       4.0\n",
       "Porsche    8.0\n",
       "Smart      NaN\n",
       "dtype: float64"
      ]
     },
     "execution_count": 33,
     "metadata": {},
     "output_type": "execute_result"
    }
   ],
   "source": [
    "A = pd.Series([1,2,3,4], ['Smart', 'Opel', 'Audi', 'Porsche'])\n",
    "A3 = pd.Series([1,2,3,4], ['Fiat', 'Opel', 'Audi', 'Porsche'])\n",
    "add_AA3 = A + A3\n",
    "add_AA3"
   ]
  },
  {
   "cell_type": "code",
   "execution_count": 35,
   "id": "d945864d",
   "metadata": {},
   "outputs": [
    {
     "data": {
      "text/html": [
       "<div>\n",
       "<style scoped>\n",
       "    .dataframe tbody tr th:only-of-type {\n",
       "        vertical-align: middle;\n",
       "    }\n",
       "\n",
       "    .dataframe tbody tr th {\n",
       "        vertical-align: top;\n",
       "    }\n",
       "\n",
       "    .dataframe thead th {\n",
       "        text-align: right;\n",
       "    }\n",
       "</style>\n",
       "<table border=\"1\" class=\"dataframe\">\n",
       "  <thead>\n",
       "    <tr style=\"text-align: right;\">\n",
       "      <th></th>\n",
       "      <th>Smart</th>\n",
       "      <th>Opel</th>\n",
       "      <th>Audi</th>\n",
       "      <th>Porsche</th>\n",
       "    </tr>\n",
       "  </thead>\n",
       "  <tbody>\n",
       "    <tr>\n",
       "      <th>0</th>\n",
       "      <td>1</td>\n",
       "      <td>2</td>\n",
       "      <td>3</td>\n",
       "      <td>4</td>\n",
       "    </tr>\n",
       "  </tbody>\n",
       "</table>\n",
       "</div>"
      ],
      "text/plain": [
       "   Smart  Opel  Audi  Porsche\n",
       "0      1     2     3        4"
      ]
     },
     "execution_count": 35,
     "metadata": {},
     "output_type": "execute_result"
    }
   ],
   "source": [
    "S1 = pd.Series([1,2,3,4], ['Smart', 'Opel', 'Audi', 'Porsche'])\n",
    "df1 = pd.DataFrame([S1])\n",
    "df1"
   ]
  },
  {
   "cell_type": "code",
   "execution_count": 37,
   "id": "e1e5f9b5",
   "metadata": {},
   "outputs": [
    {
     "data": {
      "text/html": [
       "<div>\n",
       "<style scoped>\n",
       "    .dataframe tbody tr th:only-of-type {\n",
       "        vertical-align: middle;\n",
       "    }\n",
       "\n",
       "    .dataframe tbody tr th {\n",
       "        vertical-align: top;\n",
       "    }\n",
       "\n",
       "    .dataframe thead th {\n",
       "        text-align: right;\n",
       "    }\n",
       "</style>\n",
       "<table border=\"1\" class=\"dataframe\">\n",
       "  <thead>\n",
       "    <tr style=\"text-align: right;\">\n",
       "      <th></th>\n",
       "      <th>Smart</th>\n",
       "      <th>Opel</th>\n",
       "      <th>Audi</th>\n",
       "      <th>Porsche</th>\n",
       "    </tr>\n",
       "  </thead>\n",
       "  <tbody>\n",
       "    <tr>\n",
       "      <th>Row1</th>\n",
       "      <td>1</td>\n",
       "      <td>2</td>\n",
       "      <td>3</td>\n",
       "      <td>4</td>\n",
       "    </tr>\n",
       "    <tr>\n",
       "      <th>Row2</th>\n",
       "      <td>10</td>\n",
       "      <td>20</td>\n",
       "      <td>30</td>\n",
       "      <td>40</td>\n",
       "    </tr>\n",
       "  </tbody>\n",
       "</table>\n",
       "</div>"
      ],
      "text/plain": [
       "      Smart  Opel  Audi  Porsche\n",
       "Row1      1     2     3        4\n",
       "Row2     10    20    30       40"
      ]
     },
     "execution_count": 37,
     "metadata": {},
     "output_type": "execute_result"
    }
   ],
   "source": [
    "S2 = pd.Series([10,20,30,40], ['Smart', 'Opel', 'Audi', 'Porsche'])\n",
    "index = \"Row1 Row2\".split() #methodos diaxwrismoy symboloseiras .split()\n",
    "df2 = pd.DataFrame([S1, S2], index)\n",
    "df2"
   ]
  },
  {
   "cell_type": "code",
   "execution_count": 40,
   "id": "a44fdeee",
   "metadata": {},
   "outputs": [
    {
     "data": {
      "text/plain": [
       "['testuser', 'hotmail.com']"
      ]
     },
     "execution_count": 40,
     "metadata": {},
     "output_type": "execute_result"
    }
   ],
   "source": [
    "email = \"testuser@hotmail.com\"\n",
    "mail_list = email.split(\"@\")\n",
    "mail_list"
   ]
  },
  {
   "cell_type": "code",
   "execution_count": 43,
   "id": "cadceb72",
   "metadata": {},
   "outputs": [
    {
     "data": {
      "text/html": [
       "<div>\n",
       "<style scoped>\n",
       "    .dataframe tbody tr th:only-of-type {\n",
       "        vertical-align: middle;\n",
       "    }\n",
       "\n",
       "    .dataframe tbody tr th {\n",
       "        vertical-align: top;\n",
       "    }\n",
       "\n",
       "    .dataframe thead th {\n",
       "        text-align: right;\n",
       "    }\n",
       "</style>\n",
       "<table border=\"1\" class=\"dataframe\">\n",
       "  <thead>\n",
       "    <tr style=\"text-align: right;\">\n",
       "      <th></th>\n",
       "      <th>Col1</th>\n",
       "      <th>Col2</th>\n",
       "      <th>Col3</th>\n",
       "      <th>Col4</th>\n",
       "    </tr>\n",
       "  </thead>\n",
       "  <tbody>\n",
       "    <tr>\n",
       "      <th>Row1</th>\n",
       "      <td>1</td>\n",
       "      <td>2</td>\n",
       "      <td>3</td>\n",
       "      <td>4</td>\n",
       "    </tr>\n",
       "    <tr>\n",
       "      <th>Row2</th>\n",
       "      <td>5</td>\n",
       "      <td>6</td>\n",
       "      <td>7</td>\n",
       "      <td>8</td>\n",
       "    </tr>\n",
       "    <tr>\n",
       "      <th>Row3</th>\n",
       "      <td>9</td>\n",
       "      <td>10</td>\n",
       "      <td>11</td>\n",
       "      <td>12</td>\n",
       "    </tr>\n",
       "    <tr>\n",
       "      <th>Row4</th>\n",
       "      <td>13</td>\n",
       "      <td>14</td>\n",
       "      <td>15</td>\n",
       "      <td>16</td>\n",
       "    </tr>\n",
       "    <tr>\n",
       "      <th>Row5</th>\n",
       "      <td>17</td>\n",
       "      <td>18</td>\n",
       "      <td>19</td>\n",
       "      <td>20</td>\n",
       "    </tr>\n",
       "  </tbody>\n",
       "</table>\n",
       "</div>"
      ],
      "text/plain": [
       "      Col1  Col2  Col3  Col4\n",
       "Row1     1     2     3     4\n",
       "Row2     5     6     7     8\n",
       "Row3     9    10    11    12\n",
       "Row4    13    14    15    16\n",
       "Row5    17    18    19    20"
      ]
     },
     "execution_count": 43,
     "metadata": {},
     "output_type": "execute_result"
    }
   ],
   "source": [
    "Array = np.arange(1,21).reshape(5,4)\n",
    "row = \"Row1 Row2 Row3 Row4 Row5\".split()\n",
    "col = \"Col1 Col2 Col3 Col4\".split()\n",
    "df3 = pd.DataFrame(Array, row, col)\n",
    "df3"
   ]
  },
  {
   "cell_type": "code",
   "execution_count": 44,
   "id": "a084fdf8",
   "metadata": {},
   "outputs": [
    {
     "data": {
      "text/plain": [
       "Row1     1\n",
       "Row2     5\n",
       "Row3     9\n",
       "Row4    13\n",
       "Row5    17\n",
       "Name: Col1, dtype: int32"
      ]
     },
     "execution_count": 44,
     "metadata": {},
     "output_type": "execute_result"
    }
   ],
   "source": [
    "df3[\"Col1\"]"
   ]
  },
  {
   "cell_type": "code",
   "execution_count": 45,
   "id": "2416488b",
   "metadata": {},
   "outputs": [
    {
     "data": {
      "text/html": [
       "<div>\n",
       "<style scoped>\n",
       "    .dataframe tbody tr th:only-of-type {\n",
       "        vertical-align: middle;\n",
       "    }\n",
       "\n",
       "    .dataframe tbody tr th {\n",
       "        vertical-align: top;\n",
       "    }\n",
       "\n",
       "    .dataframe thead th {\n",
       "        text-align: right;\n",
       "    }\n",
       "</style>\n",
       "<table border=\"1\" class=\"dataframe\">\n",
       "  <thead>\n",
       "    <tr style=\"text-align: right;\">\n",
       "      <th></th>\n",
       "      <th>Col1</th>\n",
       "      <th>Col2</th>\n",
       "    </tr>\n",
       "  </thead>\n",
       "  <tbody>\n",
       "    <tr>\n",
       "      <th>Row1</th>\n",
       "      <td>1</td>\n",
       "      <td>2</td>\n",
       "    </tr>\n",
       "    <tr>\n",
       "      <th>Row2</th>\n",
       "      <td>5</td>\n",
       "      <td>6</td>\n",
       "    </tr>\n",
       "    <tr>\n",
       "      <th>Row3</th>\n",
       "      <td>9</td>\n",
       "      <td>10</td>\n",
       "    </tr>\n",
       "    <tr>\n",
       "      <th>Row4</th>\n",
       "      <td>13</td>\n",
       "      <td>14</td>\n",
       "    </tr>\n",
       "    <tr>\n",
       "      <th>Row5</th>\n",
       "      <td>17</td>\n",
       "      <td>18</td>\n",
       "    </tr>\n",
       "  </tbody>\n",
       "</table>\n",
       "</div>"
      ],
      "text/plain": [
       "      Col1  Col2\n",
       "Row1     1     2\n",
       "Row2     5     6\n",
       "Row3     9    10\n",
       "Row4    13    14\n",
       "Row5    17    18"
      ]
     },
     "execution_count": 45,
     "metadata": {},
     "output_type": "execute_result"
    }
   ],
   "source": [
    "df3[[\"Col1\", \"Col2\"]]"
   ]
  },
  {
   "cell_type": "code",
   "execution_count": 46,
   "id": "82e309d4",
   "metadata": {},
   "outputs": [
    {
     "data": {
      "text/plain": [
       "18"
      ]
     },
     "execution_count": 46,
     "metadata": {},
     "output_type": "execute_result"
    }
   ],
   "source": [
    "df3['Col2'][\"Row5\"]"
   ]
  },
  {
   "cell_type": "code",
   "execution_count": 47,
   "id": "dfc312ff",
   "metadata": {},
   "outputs": [
    {
     "data": {
      "text/plain": [
       "Col1    1\n",
       "Col2    2\n",
       "Col3    3\n",
       "Col4    4\n",
       "Name: Row1, dtype: int32"
      ]
     },
     "execution_count": 47,
     "metadata": {},
     "output_type": "execute_result"
    }
   ],
   "source": [
    "df3.loc[\"Row1\"]"
   ]
  },
  {
   "cell_type": "code",
   "execution_count": 48,
   "id": "410f0263",
   "metadata": {},
   "outputs": [
    {
     "data": {
      "text/plain": [
       "Col1    1\n",
       "Col2    2\n",
       "Col3    3\n",
       "Col4    4\n",
       "Name: Row1, dtype: int32"
      ]
     },
     "execution_count": 48,
     "metadata": {},
     "output_type": "execute_result"
    }
   ],
   "source": [
    "df3.iloc[0]"
   ]
  },
  {
   "cell_type": "code",
   "execution_count": 52,
   "id": "ab3b11f6",
   "metadata": {},
   "outputs": [
    {
     "data": {
      "text/plain": [
       "1"
      ]
     },
     "execution_count": 52,
     "metadata": {},
     "output_type": "execute_result"
    }
   ],
   "source": [
    "df3.loc[\"Row1\"][\"Col1\"]"
   ]
  },
  {
   "cell_type": "code",
   "execution_count": 53,
   "id": "171daddc",
   "metadata": {},
   "outputs": [
    {
     "data": {
      "text/plain": [
       "1"
      ]
     },
     "execution_count": 53,
     "metadata": {},
     "output_type": "execute_result"
    }
   ],
   "source": [
    "df3.iloc[0][\"Col1\"]"
   ]
  },
  {
   "cell_type": "code",
   "execution_count": 55,
   "id": "19978996",
   "metadata": {},
   "outputs": [
    {
     "data": {
      "text/html": [
       "<div>\n",
       "<style scoped>\n",
       "    .dataframe tbody tr th:only-of-type {\n",
       "        vertical-align: middle;\n",
       "    }\n",
       "\n",
       "    .dataframe tbody tr th {\n",
       "        vertical-align: top;\n",
       "    }\n",
       "\n",
       "    .dataframe thead th {\n",
       "        text-align: right;\n",
       "    }\n",
       "</style>\n",
       "<table border=\"1\" class=\"dataframe\">\n",
       "  <thead>\n",
       "    <tr style=\"text-align: right;\">\n",
       "      <th></th>\n",
       "      <th>Col1</th>\n",
       "      <th>Col2</th>\n",
       "      <th>Col3</th>\n",
       "      <th>Col4</th>\n",
       "      <th>Col sum</th>\n",
       "    </tr>\n",
       "  </thead>\n",
       "  <tbody>\n",
       "    <tr>\n",
       "      <th>Row1</th>\n",
       "      <td>1</td>\n",
       "      <td>2</td>\n",
       "      <td>3</td>\n",
       "      <td>4</td>\n",
       "      <td>3</td>\n",
       "    </tr>\n",
       "    <tr>\n",
       "      <th>Row2</th>\n",
       "      <td>5</td>\n",
       "      <td>6</td>\n",
       "      <td>7</td>\n",
       "      <td>8</td>\n",
       "      <td>11</td>\n",
       "    </tr>\n",
       "    <tr>\n",
       "      <th>Row3</th>\n",
       "      <td>9</td>\n",
       "      <td>10</td>\n",
       "      <td>11</td>\n",
       "      <td>12</td>\n",
       "      <td>19</td>\n",
       "    </tr>\n",
       "    <tr>\n",
       "      <th>Row4</th>\n",
       "      <td>13</td>\n",
       "      <td>14</td>\n",
       "      <td>15</td>\n",
       "      <td>16</td>\n",
       "      <td>27</td>\n",
       "    </tr>\n",
       "    <tr>\n",
       "      <th>Row5</th>\n",
       "      <td>17</td>\n",
       "      <td>18</td>\n",
       "      <td>19</td>\n",
       "      <td>20</td>\n",
       "      <td>35</td>\n",
       "    </tr>\n",
       "  </tbody>\n",
       "</table>\n",
       "</div>"
      ],
      "text/plain": [
       "      Col1  Col2  Col3  Col4  Col sum\n",
       "Row1     1     2     3     4        3\n",
       "Row2     5     6     7     8       11\n",
       "Row3     9    10    11    12       19\n",
       "Row4    13    14    15    16       27\n",
       "Row5    17    18    19    20       35"
      ]
     },
     "execution_count": 55,
     "metadata": {},
     "output_type": "execute_result"
    }
   ],
   "source": [
    "df3[\"Col sum\"] = df3['Col1'] + df3['Col2']\n",
    "df3"
   ]
  },
  {
   "cell_type": "code",
   "execution_count": 56,
   "id": "91802681",
   "metadata": {},
   "outputs": [
    {
     "data": {
      "text/html": [
       "<div>\n",
       "<style scoped>\n",
       "    .dataframe tbody tr th:only-of-type {\n",
       "        vertical-align: middle;\n",
       "    }\n",
       "\n",
       "    .dataframe tbody tr th {\n",
       "        vertical-align: top;\n",
       "    }\n",
       "\n",
       "    .dataframe thead th {\n",
       "        text-align: right;\n",
       "    }\n",
       "</style>\n",
       "<table border=\"1\" class=\"dataframe\">\n",
       "  <thead>\n",
       "    <tr style=\"text-align: right;\">\n",
       "      <th></th>\n",
       "      <th>Col1</th>\n",
       "      <th>Col2</th>\n",
       "      <th>Col3</th>\n",
       "      <th>Col4</th>\n",
       "      <th>Col sum</th>\n",
       "      <th>New column</th>\n",
       "    </tr>\n",
       "  </thead>\n",
       "  <tbody>\n",
       "    <tr>\n",
       "      <th>Row1</th>\n",
       "      <td>1</td>\n",
       "      <td>2</td>\n",
       "      <td>3</td>\n",
       "      <td>4</td>\n",
       "      <td>3</td>\n",
       "      <td>0.0</td>\n",
       "    </tr>\n",
       "    <tr>\n",
       "      <th>Row2</th>\n",
       "      <td>5</td>\n",
       "      <td>6</td>\n",
       "      <td>7</td>\n",
       "      <td>8</td>\n",
       "      <td>11</td>\n",
       "      <td>0.0</td>\n",
       "    </tr>\n",
       "    <tr>\n",
       "      <th>Row3</th>\n",
       "      <td>9</td>\n",
       "      <td>10</td>\n",
       "      <td>11</td>\n",
       "      <td>12</td>\n",
       "      <td>19</td>\n",
       "      <td>0.0</td>\n",
       "    </tr>\n",
       "    <tr>\n",
       "      <th>Row4</th>\n",
       "      <td>13</td>\n",
       "      <td>14</td>\n",
       "      <td>15</td>\n",
       "      <td>16</td>\n",
       "      <td>27</td>\n",
       "      <td>0.0</td>\n",
       "    </tr>\n",
       "    <tr>\n",
       "      <th>Row5</th>\n",
       "      <td>17</td>\n",
       "      <td>18</td>\n",
       "      <td>19</td>\n",
       "      <td>20</td>\n",
       "      <td>35</td>\n",
       "      <td>0.0</td>\n",
       "    </tr>\n",
       "  </tbody>\n",
       "</table>\n",
       "</div>"
      ],
      "text/plain": [
       "      Col1  Col2  Col3  Col4  Col sum  New column\n",
       "Row1     1     2     3     4        3         0.0\n",
       "Row2     5     6     7     8       11         0.0\n",
       "Row3     9    10    11    12       19         0.0\n",
       "Row4    13    14    15    16       27         0.0\n",
       "Row5    17    18    19    20       35         0.0"
      ]
     },
     "execution_count": 56,
     "metadata": {},
     "output_type": "execute_result"
    }
   ],
   "source": [
    "df3['New column'] = np.zeros(5)\n",
    "df3"
   ]
  },
  {
   "cell_type": "code",
   "execution_count": 57,
   "id": "7243ea1a",
   "metadata": {},
   "outputs": [
    {
     "data": {
      "text/html": [
       "<div>\n",
       "<style scoped>\n",
       "    .dataframe tbody tr th:only-of-type {\n",
       "        vertical-align: middle;\n",
       "    }\n",
       "\n",
       "    .dataframe tbody tr th {\n",
       "        vertical-align: top;\n",
       "    }\n",
       "\n",
       "    .dataframe thead th {\n",
       "        text-align: right;\n",
       "    }\n",
       "</style>\n",
       "<table border=\"1\" class=\"dataframe\">\n",
       "  <thead>\n",
       "    <tr style=\"text-align: right;\">\n",
       "      <th></th>\n",
       "      <th>Col1</th>\n",
       "      <th>Col2</th>\n",
       "      <th>Col3</th>\n",
       "      <th>Col4</th>\n",
       "      <th>Col sum</th>\n",
       "    </tr>\n",
       "  </thead>\n",
       "  <tbody>\n",
       "    <tr>\n",
       "      <th>Row1</th>\n",
       "      <td>1</td>\n",
       "      <td>2</td>\n",
       "      <td>3</td>\n",
       "      <td>4</td>\n",
       "      <td>3</td>\n",
       "    </tr>\n",
       "    <tr>\n",
       "      <th>Row2</th>\n",
       "      <td>5</td>\n",
       "      <td>6</td>\n",
       "      <td>7</td>\n",
       "      <td>8</td>\n",
       "      <td>11</td>\n",
       "    </tr>\n",
       "    <tr>\n",
       "      <th>Row3</th>\n",
       "      <td>9</td>\n",
       "      <td>10</td>\n",
       "      <td>11</td>\n",
       "      <td>12</td>\n",
       "      <td>19</td>\n",
       "    </tr>\n",
       "    <tr>\n",
       "      <th>Row4</th>\n",
       "      <td>13</td>\n",
       "      <td>14</td>\n",
       "      <td>15</td>\n",
       "      <td>16</td>\n",
       "      <td>27</td>\n",
       "    </tr>\n",
       "    <tr>\n",
       "      <th>Row5</th>\n",
       "      <td>17</td>\n",
       "      <td>18</td>\n",
       "      <td>19</td>\n",
       "      <td>20</td>\n",
       "      <td>35</td>\n",
       "    </tr>\n",
       "  </tbody>\n",
       "</table>\n",
       "</div>"
      ],
      "text/plain": [
       "      Col1  Col2  Col3  Col4  Col sum\n",
       "Row1     1     2     3     4        3\n",
       "Row2     5     6     7     8       11\n",
       "Row3     9    10    11    12       19\n",
       "Row4    13    14    15    16       27\n",
       "Row5    17    18    19    20       35"
      ]
     },
     "execution_count": 57,
     "metadata": {},
     "output_type": "execute_result"
    }
   ],
   "source": [
    "df3.drop('New column', axis = 1, inplace = True)\n",
    "df3"
   ]
  },
  {
   "cell_type": "code",
   "execution_count": null,
   "id": "9a3ec058",
   "metadata": {},
   "outputs": [],
   "source": []
  }
 ],
 "metadata": {
  "kernelspec": {
   "display_name": "Python 3 (ipykernel)",
   "language": "python",
   "name": "python3"
  },
  "language_info": {
   "codemirror_mode": {
    "name": "ipython",
    "version": 3
   },
   "file_extension": ".py",
   "mimetype": "text/x-python",
   "name": "python",
   "nbconvert_exporter": "python",
   "pygments_lexer": "ipython3",
   "version": "3.9.7"
  }
 },
 "nbformat": 4,
 "nbformat_minor": 5
}
