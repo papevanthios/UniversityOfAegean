{
 "cells": [
  {
   "cell_type": "code",
   "execution_count": 14,
   "id": "753f02bd",
   "metadata": {},
   "outputs": [],
   "source": [
    "class Vehicle:\n",
    "    def __init__(self, color, price, wheels, speed): # Constructor \"__init__\"\n",
    "        self.color = color\n",
    "        self.price = price\n",
    "        self.wheels = wheels\n",
    "        self.speed = speed\n",
    "    def accelerate(self, amount):\n",
    "        print('Accelerate amount:', amount, \"km/h\")\n",
    "        self.speed += amount\n",
    "        return self.speed\n",
    "    def decelerate(self, amount):\n",
    "        print('Decelerate amount:', amount, \"km/h\")\n",
    "        self.speed -= amount\n",
    "        return self.speed\n"
   ]
  },
  {
   "cell_type": "code",
   "execution_count": 15,
   "id": "65c68eed",
   "metadata": {},
   "outputs": [],
   "source": [
    "mybeetle = Vehicle('yellow', 20000.0, 4, 80)"
   ]
  },
  {
   "cell_type": "code",
   "execution_count": 16,
   "id": "633f3851",
   "metadata": {},
   "outputs": [
    {
     "name": "stdout",
     "output_type": "stream",
     "text": [
      "Accelerate amount: 20 km/h\n"
     ]
    },
    {
     "data": {
      "text/plain": [
       "100"
      ]
     },
     "execution_count": 16,
     "metadata": {},
     "output_type": "execute_result"
    }
   ],
   "source": [
    "mybeetle.accelerate(20)"
   ]
  },
  {
   "cell_type": "code",
   "execution_count": null,
   "id": "e42737c8",
   "metadata": {},
   "outputs": [],
   "source": []
  },
  {
   "cell_type": "code",
   "execution_count": 21,
   "id": "8a79456a",
   "metadata": {},
   "outputs": [],
   "source": [
    "class Dog:\n",
    "    def __init__(self, breed, size, color):\n",
    "        self.breed = breed\n",
    "        self.size = size\n",
    "        self.color = color\n",
    "        print('breed:', self.breed)\n",
    "        print('size:', self.size)\n",
    "        print('color:', self.color)\n",
    "    def eat(self, food):\n",
    "        print('I am eating ', food)\n",
    "    def bark(self):\n",
    "        print('I am barking')"
   ]
  },
  {
   "cell_type": "code",
   "execution_count": 22,
   "id": "b5a79b96",
   "metadata": {},
   "outputs": [
    {
     "name": "stdout",
     "output_type": "stream",
     "text": [
      "breed: terrier\n",
      "size: medium\n",
      "color: brown\n",
      "breed: labrador\n",
      "size: large\n",
      "color: light brown\n",
      "I am eating  bone\n",
      "I am eating  meat\n",
      "I am barking\n"
     ]
    },
    {
     "ename": "NameError",
     "evalue": "name 'Ricky' is not defined",
     "output_type": "error",
     "traceback": [
      "\u001b[1;31m---------------------------------------------------------------------------\u001b[0m",
      "\u001b[1;31mNameError\u001b[0m                                 Traceback (most recent call last)",
      "\u001b[1;32mC:\\Users\\EVANTH~1\\AppData\\Local\\Temp/ipykernel_8908/4162341307.py\u001b[0m in \u001b[0;36m<module>\u001b[1;34m\u001b[0m\n\u001b[0;32m      4\u001b[0m \u001b[0mRocky\u001b[0m\u001b[1;33m.\u001b[0m\u001b[0meat\u001b[0m\u001b[1;33m(\u001b[0m\u001b[1;34m'meat'\u001b[0m\u001b[1;33m)\u001b[0m\u001b[1;33m\u001b[0m\u001b[1;33m\u001b[0m\u001b[0m\n\u001b[0;32m      5\u001b[0m \u001b[0mMax\u001b[0m\u001b[1;33m.\u001b[0m\u001b[0mbark\u001b[0m\u001b[1;33m(\u001b[0m\u001b[1;33m)\u001b[0m\u001b[1;33m\u001b[0m\u001b[1;33m\u001b[0m\u001b[0m\n\u001b[1;32m----> 6\u001b[1;33m \u001b[0mRicky\u001b[0m\u001b[1;33m.\u001b[0m\u001b[0mbrak\u001b[0m\u001b[1;33m(\u001b[0m\u001b[1;33m)\u001b[0m\u001b[1;33m\u001b[0m\u001b[1;33m\u001b[0m\u001b[0m\n\u001b[0m",
      "\u001b[1;31mNameError\u001b[0m: name 'Ricky' is not defined"
     ]
    }
   ],
   "source": [
    "Max = Dog('terrier', 'medium', 'brown')\n",
    "Rocky = Dog('labrador', 'large', 'light brown')\n",
    "Max.eat('bone')\n",
    "Rocky.eat('meat')\n",
    "Max.bark()\n",
    "Ricky.brak()"
   ]
  },
  {
   "cell_type": "code",
   "execution_count": null,
   "id": "17541eaa",
   "metadata": {},
   "outputs": [],
   "source": []
  },
  {
   "cell_type": "code",
   "execution_count": 23,
   "id": "5815edbb",
   "metadata": {},
   "outputs": [],
   "source": [
    "class Shape:\n",
    "    def __init__(self, x, y):\n",
    "        self.x = x\n",
    "        self.y = y\n",
    "    def area(self):\n",
    "        return self.x * self.y\n",
    "    def perimeter(self):\n",
    "        return 2 * self.x + 2 * self.y"
   ]
  },
  {
   "cell_type": "code",
   "execution_count": 24,
   "id": "6f7fab4d",
   "metadata": {},
   "outputs": [],
   "source": [
    "# An inherited Class\n",
    "def Square(Shape):\n",
    "    def __init__(self, x):\n",
    "        self.x = x\n",
    "        self.y = x"
   ]
  },
  {
   "cell_type": "code",
   "execution_count": 26,
   "id": "257fe6ac",
   "metadata": {},
   "outputs": [
    {
     "data": {
      "text/plain": [
       "5"
      ]
     },
     "execution_count": 26,
     "metadata": {},
     "output_type": "execute_result"
    }
   ],
   "source": [
    "# Overriding Method\n",
    "class Parent(object):\n",
    "    def __init__(self):\n",
    "        self.value = 4\n",
    "    def get_value(self):\n",
    "        return self.value\n",
    "\n",
    "c = Parent()\n",
    "c.get_value()\n",
    "\n",
    "class Child(Parent):\n",
    "    def get_value(self):\n",
    "        return self.value + 1\n",
    "    \n",
    "c = Child()\n",
    "c.get_value()"
   ]
  },
  {
   "cell_type": "code",
   "execution_count": null,
   "id": "14e56dee",
   "metadata": {},
   "outputs": [],
   "source": []
  },
  {
   "cell_type": "code",
   "execution_count": 32,
   "id": "8ef18963",
   "metadata": {},
   "outputs": [
    {
     "name": "stdout",
     "output_type": "stream",
     "text": [
      "Car BMW is created with color: black and release year: 2010 .\n",
      "Car Nissan is created with color: red and release year: 2019 .\n",
      "BMW is turning right\n",
      "Nissan speed up: 90\n"
     ]
    }
   ],
   "source": [
    "class Car():\n",
    "    def __init__(self, brand, color, year):\n",
    "        self.brand = brand\n",
    "        self.color = color\n",
    "        self.year = year\n",
    "        print('Car', self.brand, 'is created with color:', self.color, 'and release year:', self.year)\n",
    "    def turn(self, turning):\n",
    "        print(self.brand, 'is turning', turning)\n",
    "    def speed_up(self, amount):\n",
    "        print(self.brand, 'speed up:', amount)    \n",
    "    \n",
    "convertible = Car('BMW', 'black', 2010)\n",
    "sedan = Car('Nissan', 'red', 2019)\n",
    "\n",
    "convertible.turn('right')\n",
    "sedan.speed_up(90)"
   ]
  },
  {
   "cell_type": "code",
   "execution_count": null,
   "id": "1ac91b65",
   "metadata": {},
   "outputs": [],
   "source": []
  }
 ],
 "metadata": {
  "kernelspec": {
   "display_name": "Python 3 (ipykernel)",
   "language": "python",
   "name": "python3"
  },
  "language_info": {
   "codemirror_mode": {
    "name": "ipython",
    "version": 3
   },
   "file_extension": ".py",
   "mimetype": "text/x-python",
   "name": "python",
   "nbconvert_exporter": "python",
   "pygments_lexer": "ipython3",
   "version": "3.9.7"
  }
 },
 "nbformat": 4,
 "nbformat_minor": 5
}
